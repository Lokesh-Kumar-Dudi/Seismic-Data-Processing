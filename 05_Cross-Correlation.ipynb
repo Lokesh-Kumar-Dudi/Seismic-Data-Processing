{
 "cells": [
  {
   "cell_type": "code",
   "execution_count": 1,
   "metadata": {},
   "outputs": [],
   "source": [
    "import numpy as np"
   ]
  },
  {
   "cell_type": "code",
   "execution_count": 33,
   "metadata": {},
   "outputs": [],
   "source": [
    "a = np.array([2,1,-1,0,0])\n",
    "b = np.array([0,0,2,1,-1]) "
   ]
  },
  {
   "cell_type": "code",
   "execution_count": 38,
   "metadata": {},
   "outputs": [],
   "source": [
    "def xcorrelate(a,b,lag):\n",
    "    m = len(a)\n",
    "    n = len(b)\n",
    "    k = len(a)+len(b)-1\n",
    "    a = a[::-1]\n",
    "    c = np.zeros((k))\n",
    "    C = {}\n",
    "    for i in range(k):\n",
    "        for j in range(n-lag):\n",
    "            if (i-j>=0 and i-j<m ):\n",
    "                c[i]+=a[i-j]*b[j+lag]\n",
    "            else:\n",
    "                continue\n",
    "        C[str(i-(m-1))] = c[i]\n",
    "    return c,C"
   ]
  },
  {
   "cell_type": "code",
   "execution_count": 46,
   "metadata": {},
   "outputs": [
    {
     "name": "stdout",
     "output_type": "stream",
     "text": [
      "[ 0.  0. -2.  1.  6.  1. -2.  0.  0.]\n",
      "{'-4': 0.0, '-3': 0.0, '-2': -2.0, '-1': 1.0, '0': 6.0, '1': 1.0, '2': -2.0, '3': 0.0, '4': 0.0}\n"
     ]
    }
   ],
   "source": [
    "c,C=xcorrelate(a,a,0)\n",
    "print(c)\n",
    "print(C)"
   ]
  },
  {
   "cell_type": "code",
   "execution_count": 48,
   "metadata": {},
   "outputs": [
    {
     "name": "stdout",
     "output_type": "stream",
     "text": [
      "[ 0.  0.  0.  0. -2.  1.  6.  1. -2.]\n",
      "{'-4': 0.0, '-3': 0.0, '-2': 0.0, '-1': 0.0, '0': -2.0, '1': 1.0, '2': 6.0, '3': 1.0, '4': -2.0}\n"
     ]
    }
   ],
   "source": [
    "c,C=xcorrelate(a,b,4)\n",
    "print(c)\n",
    "print(C)"
   ]
  },
  {
   "cell_type": "code",
   "execution_count": 41,
   "metadata": {},
   "outputs": [
    {
     "data": {
      "text/plain": [
       "array([ 0,  0, -2,  1,  6,  1, -2,  0,  0])"
      ]
     },
     "execution_count": 41,
     "metadata": {},
     "output_type": "execute_result"
    }
   ],
   "source": [
    "np.correlate(a,a, \"full\")"
   ]
  },
  {
   "cell_type": "code",
   "execution_count": 7,
   "metadata": {},
   "outputs": [
    {
     "data": {
      "text/plain": [
       "array([ 0,  0,  0,  0, -2,  1,  6,  1, -2])"
      ]
     },
     "execution_count": 7,
     "metadata": {},
     "output_type": "execute_result"
    }
   ],
   "source": [
    "np.correlate(b,a, \"full\")"
   ]
  }
 ],
 "metadata": {
  "kernelspec": {
   "display_name": "Python 3",
   "language": "python",
   "name": "python3"
  },
  "language_info": {
   "codemirror_mode": {
    "name": "ipython",
    "version": 3
   },
   "file_extension": ".py",
   "mimetype": "text/x-python",
   "name": "python",
   "nbconvert_exporter": "python",
   "pygments_lexer": "ipython3",
   "version": "3.8.2"
  }
 },
 "nbformat": 4,
 "nbformat_minor": 4
}
