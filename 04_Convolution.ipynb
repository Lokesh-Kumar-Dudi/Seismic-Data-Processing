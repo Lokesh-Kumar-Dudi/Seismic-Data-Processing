{
 "cells": [
  {
   "cell_type": "code",
   "execution_count": 1,
   "metadata": {},
   "outputs": [],
   "source": [
    "import numpy as np"
   ]
  },
  {
   "cell_type": "code",
   "execution_count": 83,
   "metadata": {},
   "outputs": [],
   "source": [
    "def convolve(a,b):\n",
    "    if(len(a)<len(b)):\n",
    "        a,b = b,a\n",
    "    m = len(a)\n",
    "    n = len(b)\n",
    "    k = len(a)+len(b)-1\n",
    "    c = np.zeros((k))\n",
    "        \n",
    "    for i in range(k):\n",
    "        for j in range(n):\n",
    "            if (i-j>=0 and i-j<m ):\n",
    "                c[i]+=a[i-j]*b[j]\n",
    "            else:\n",
    "                continue\n",
    "    return c"
   ]
  },
  {
   "cell_type": "code",
   "execution_count": 84,
   "metadata": {},
   "outputs": [],
   "source": [
    "a = np.array([1, 0, 0.5])\n",
    "b = np.array([1,-0.5]) "
   ]
  },
  {
   "cell_type": "code",
   "execution_count": 85,
   "metadata": {},
   "outputs": [
    {
     "name": "stdout",
     "output_type": "stream",
     "text": [
      "a*b using convolve():[ 1.   -0.5   0.5  -0.25]\n",
      "CPU times: user 658 µs, sys: 124 µs, total: 782 µs\n",
      "Wall time: 667 µs\n"
     ]
    }
   ],
   "source": [
    "%%time\n",
    "print(\"a*b using convolve():{0}\".format(convolve(a,b)))"
   ]
  },
  {
   "cell_type": "code",
   "execution_count": 86,
   "metadata": {
    "scrolled": true
   },
   "outputs": [
    {
     "name": "stdout",
     "output_type": "stream",
     "text": [
      "a*b using np.convolve():[ 1.   -0.5   0.5  -0.25]\n",
      "CPU times: user 707 µs, sys: 135 µs, total: 842 µs\n",
      "Wall time: 662 µs\n"
     ]
    }
   ],
   "source": [
    "%%time\n",
    "print(\"a*b using np.convolve():{0}\".format(np.convolve(a,b)))"
   ]
  },
  {
   "cell_type": "code",
   "execution_count": 92,
   "metadata": {},
   "outputs": [
    {
     "name": "stdout",
     "output_type": "stream",
     "text": [
      "CPU times: user 565 µs, sys: 15 µs, total: 580 µs\n",
      "Wall time: 439 µs\n"
     ]
    }
   ],
   "source": [
    "%%time\n",
    "a = np.random.rand(1000)*10\n",
    "b = np.random.rand(100)*10"
   ]
  },
  {
   "cell_type": "code",
   "execution_count": 93,
   "metadata": {},
   "outputs": [
    {
     "name": "stdout",
     "output_type": "stream",
     "text": [
      "CPU times: user 136 ms, sys: 0 ns, total: 136 ms\n",
      "Wall time: 133 ms\n"
     ]
    }
   ],
   "source": [
    "%%time\n",
    "x = convolve(a,b)"
   ]
  },
  {
   "cell_type": "code",
   "execution_count": 94,
   "metadata": {},
   "outputs": [
    {
     "name": "stdout",
     "output_type": "stream",
     "text": [
      "CPU times: user 544 µs, sys: 158 µs, total: 702 µs\n",
      "Wall time: 435 µs\n"
     ]
    }
   ],
   "source": [
    "%%time\n",
    "y = np.convolve(a,b)"
   ]
  },
  {
   "cell_type": "code",
   "execution_count": null,
   "metadata": {
    "scrolled": true
   },
   "outputs": [],
   "source": []
  }
 ],
 "metadata": {
  "kernelspec": {
   "display_name": "Python 3",
   "language": "python",
   "name": "python3"
  },
  "language_info": {
   "codemirror_mode": {
    "name": "ipython",
    "version": 3
   },
   "file_extension": ".py",
   "mimetype": "text/x-python",
   "name": "python",
   "nbconvert_exporter": "python",
   "pygments_lexer": "ipython3",
   "version": "3.8.2"
  }
 },
 "nbformat": 4,
 "nbformat_minor": 4
}
